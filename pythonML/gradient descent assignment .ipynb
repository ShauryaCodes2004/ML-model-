{
 "cells": [
  {
   "cell_type": "code",
   "execution_count": 1,
   "id": "6729a067",
   "metadata": {},
   "outputs": [],
   "source": [
    "import numpy as np\n",
    "from sklearn import linear_model\n",
    "import pandas as pd \n",
    "import math"
   ]
  },
  {
   "cell_type": "code",
   "execution_count": 15,
   "id": "c500ebbf",
   "metadata": {},
   "outputs": [],
   "source": [
    "def predictingusingsklearn ( ):\n",
    "    df = pd.read_csv(\"C:\\\\Users\\\\shaurya rakesh\\\\Desktop\\\\pythonML\\\\testscores\")\n",
    "    r = linearRegression()\n",
    "    r.fit(df[['math']],df.cs)\n",
    "    return r.coef_, r.intercept_\n",
    "\n",
    "    "
   ]
  },
  {
   "cell_type": "code",
   "execution_count": 21,
   "id": "0349f120",
   "metadata": {},
   "outputs": [
    {
     "ename": "NameError",
     "evalue": "name 'mcurr' is not defined",
     "output_type": "error",
     "traceback": [
      "\u001b[1;31m---------------------------------------------------------------------------\u001b[0m",
      "\u001b[1;31mNameError\u001b[0m                                 Traceback (most recent call last)",
      "Cell \u001b[1;32mIn[21], line 19\u001b[0m\n\u001b[0;32m     17\u001b[0m         \u001b[38;5;28mprint\u001b[39m (\u001b[38;5;124m\"\u001b[39m\u001b[38;5;124mm \u001b[39m\u001b[38;5;132;01m{}\u001b[39;00m\u001b[38;5;124m, b \u001b[39m\u001b[38;5;132;01m{}\u001b[39;00m\u001b[38;5;124m, cost \u001b[39m\u001b[38;5;132;01m{}\u001b[39;00m\u001b[38;5;124m, iteration \u001b[39m\u001b[38;5;132;01m{}\u001b[39;00m\u001b[38;5;124m\"\u001b[39m\u001b[38;5;241m.\u001b[39mformat(mcurr,bcurr,cost, i))\n\u001b[0;32m     18\u001b[0m         \u001b[38;5;28;01mreturn\u001b[39;00m mcurr, bcurr \n\u001b[1;32m---> 19\u001b[0m \u001b[38;5;28;01mif\u001b[39;00m mcurr \u001b[38;5;241m==\u001b[39m \u001b[38;5;241m0\u001b[39m :\n\u001b[0;32m     22\u001b[0m     df \u001b[38;5;241m=\u001b[39m pd\u001b[38;5;241m.\u001b[39mread_csv(\u001b[38;5;124m\"\u001b[39m\u001b[38;5;124mC:\u001b[39m\u001b[38;5;130;01m\\\\\u001b[39;00m\u001b[38;5;124mUsers\u001b[39m\u001b[38;5;130;01m\\\\\u001b[39;00m\u001b[38;5;124mshaurya rakesh\u001b[39m\u001b[38;5;130;01m\\\\\u001b[39;00m\u001b[38;5;124mDesktop\u001b[39m\u001b[38;5;130;01m\\\\\u001b[39;00m\u001b[38;5;124mpythonML\u001b[39m\u001b[38;5;130;01m\\\\\u001b[39;00m\u001b[38;5;124mtestscores\u001b[39m\u001b[38;5;124m\"\u001b[39m)\n\u001b[0;32m     23\u001b[0m     x \u001b[38;5;241m=\u001b[39m np\u001b[38;5;241m.\u001b[39marray(df\u001b[38;5;241m.\u001b[39mmath)\n",
      "\u001b[1;31mNameError\u001b[0m: name 'mcurr' is not defined"
     ]
    }
   ],
   "source": [
    "def gradientdescent(x,y):\n",
    "    learningrate=0.001\n",
    "    iterations = 1000\n",
    "    mcurr = bcurr = 0\n",
    "    n = len(x)\n",
    "    costprev= 0\n",
    "    for i in range(itertions):\n",
    "        ypredicted = mcurr*x + bcurr\n",
    "        md=(2/n)*sum(x*(y-ypredicted))\n",
    "        #to check how we are doing lets print cost it should be miniumum\n",
    "        cost = (1/n)*sum([val**2 for val in (y-ypredicted)])\n",
    "        \n",
    "        bd=md=(2/n)*sum(x*(y-ypredicted))\n",
    "        mcurr = mcurr - learningrate * md\n",
    "        bcurr = bcurr - learningrate * bd\n",
    "        costprev = cost\n",
    "        print (\"m {}, b {}, cost {}, iteration {}\".format(mcurr,bcurr,cost, i))\n",
    "        return mcurr, bcurr \n",
    "if mcurr == 0 :\n",
    "    \n",
    "        \n",
    "    df = pd.read_csv(\"C:\\\\Users\\\\shaurya rakesh\\\\Desktop\\\\pythonML\\\\testscores\")\n",
    "    x = np.array(df.math)\n",
    "    y = np.array(df.cs)\n",
    "    m, b = gradient_descent(x,y)\n",
    "    print(\"Using gradient descent function: Coef {} Intercept {}\".format(m, b))\n",
    "\n",
    "    m_sklearn, b_sklearn = predict_using_sklean()\n",
    "    print(\"Using sklearn: Coef {} Intercept {}\".format(m_sklearn,b_sklearn))"
   ]
  },
  {
   "cell_type": "code",
   "execution_count": null,
   "id": "e5c40f61",
   "metadata": {},
   "outputs": [],
   "source": []
  }
 ],
 "metadata": {
  "kernelspec": {
   "display_name": "Python 3 (ipykernel)",
   "language": "python",
   "name": "python3"
  },
  "language_info": {
   "codemirror_mode": {
    "name": "ipython",
    "version": 3
   },
   "file_extension": ".py",
   "mimetype": "text/x-python",
   "name": "python",
   "nbconvert_exporter": "python",
   "pygments_lexer": "ipython3",
   "version": "3.11.5"
  }
 },
 "nbformat": 4,
 "nbformat_minor": 5
}
