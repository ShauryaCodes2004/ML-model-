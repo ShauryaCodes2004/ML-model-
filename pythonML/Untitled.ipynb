{
 "cells": [
  {
   "cell_type": "code",
   "execution_count": 1,
   "id": "d6f4155f",
   "metadata": {},
   "outputs": [],
   "source": [
    "import numpy as np\n"
   ]
  },
  {
   "cell_type": "code",
   "execution_count": 16,
   "id": "aa9ccb66",
   "metadata": {},
   "outputs": [],
   "source": [
    "def gradient_descent(x,y):\n",
    "    m_curr = b_curr = 0\n",
    "    iterations =1000\n",
    "    n=len(x)\n",
    "    learningrate= 0.001\n",
    "    for i in range(iterations):\n",
    "        y_predicted = m_curr * x + b_curr\n",
    "        md = (2/n)*sum(x*(y-y_predicted))\n",
    "        bd = (2/n)*sum (y-y_predicted)\n",
    "        m_curr=b_curr - learningrate * md\n",
    "        b_curr =  b_curr - learningrate * bd \n",
    "        print(\"m{}  , b{}, iteration{}\".format(m_curr,b_curr))\n",
    "    "
   ]
  },
  {
   "cell_type": "code",
   "execution_count": 17,
   "id": "c27149bd",
   "metadata": {},
   "outputs": [
    {
     "ename": "IndexError",
     "evalue": "Replacement index 2 out of range for positional args tuple",
     "output_type": "error",
     "traceback": [
      "\u001b[1;31m---------------------------------------------------------------------------\u001b[0m",
      "\u001b[1;31mIndexError\u001b[0m                                Traceback (most recent call last)",
      "Cell \u001b[1;32mIn[17], line 3\u001b[0m\n\u001b[0;32m      1\u001b[0m x\u001b[38;5;241m=\u001b[39m np\u001b[38;5;241m.\u001b[39marray(([\u001b[38;5;241m1\u001b[39m,\u001b[38;5;241m2\u001b[39m,\u001b[38;5;241m3\u001b[39m,\u001b[38;5;241m4\u001b[39m,\u001b[38;5;241m5\u001b[39m]))\n\u001b[0;32m      2\u001b[0m y\u001b[38;5;241m=\u001b[39m np\u001b[38;5;241m.\u001b[39marray(([\u001b[38;5;241m5\u001b[39m,\u001b[38;5;241m7\u001b[39m,\u001b[38;5;241m9\u001b[39m,\u001b[38;5;241m11\u001b[39m,\u001b[38;5;241m13\u001b[39m]))\n\u001b[1;32m----> 3\u001b[0m gradient_descent(x,y)\n",
      "Cell \u001b[1;32mIn[16], line 12\u001b[0m, in \u001b[0;36mgradient_descent\u001b[1;34m(x, y)\u001b[0m\n\u001b[0;32m     10\u001b[0m m_curr\u001b[38;5;241m=\u001b[39mb_curr \u001b[38;5;241m-\u001b[39m learningrate \u001b[38;5;241m*\u001b[39m md\n\u001b[0;32m     11\u001b[0m b_curr \u001b[38;5;241m=\u001b[39m  b_curr \u001b[38;5;241m-\u001b[39m learningrate \u001b[38;5;241m*\u001b[39m bd \n\u001b[1;32m---> 12\u001b[0m \u001b[38;5;28mprint\u001b[39m(\u001b[38;5;124m\"\u001b[39m\u001b[38;5;124mm\u001b[39m\u001b[38;5;132;01m{}\u001b[39;00m\u001b[38;5;124m  , b\u001b[39m\u001b[38;5;132;01m{}\u001b[39;00m\u001b[38;5;124m, iteration\u001b[39m\u001b[38;5;132;01m{}\u001b[39;00m\u001b[38;5;124m\"\u001b[39m\u001b[38;5;241m.\u001b[39mformat(m_curr,b_curr))\n",
      "\u001b[1;31mIndexError\u001b[0m: Replacement index 2 out of range for positional args tuple"
     ]
    }
   ],
   "source": [
    "\n",
    "x= np.array(([1,2,3,4,5]))\n",
    "y= np.array(([5,7,9,11,13]))\n",
    "gradient_descent(x,y)    \n",
    "  \n",
    "    "
   ]
  },
  {
   "cell_type": "code",
   "execution_count": null,
   "id": "2b8b8a1a",
   "metadata": {},
   "outputs": [],
   "source": []
  }
 ],
 "metadata": {
  "kernelspec": {
   "display_name": "Python 3 (ipykernel)",
   "language": "python",
   "name": "python3"
  },
  "language_info": {
   "codemirror_mode": {
    "name": "ipython",
    "version": 3
   },
   "file_extension": ".py",
   "mimetype": "text/x-python",
   "name": "python",
   "nbconvert_exporter": "python",
   "pygments_lexer": "ipython3",
   "version": "3.11.5"
  }
 },
 "nbformat": 4,
 "nbformat_minor": 5
}
